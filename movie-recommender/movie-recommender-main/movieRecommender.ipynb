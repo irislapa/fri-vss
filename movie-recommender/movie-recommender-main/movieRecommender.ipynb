{
 "cells": [
  {
   "cell_type": "markdown",
   "metadata": {},
   "source": [
    "### Movie Recommender with matrix factorization by Irinej Slapal"
   ]
  },
  {
   "cell_type": "markdown",
   "metadata": {},
   "source": [
    "First we import the necessary libraries (we will use nupy and pandas) and\n",
    "read the data from the csv file into a pandas dataframe."
   ]
  },
  {
   "cell_type": "code",
   "execution_count": 1,
   "metadata": {},
   "outputs": [],
   "source": [
    "import numpy as np\n",
    "import pandas as pd\n",
    "from datetime import datetime\n",
    "import csv\n",
    "import collections"
   ]
  },
  {
   "cell_type": "code",
   "execution_count": 2,
   "metadata": {},
   "outputs": [],
   "source": [
    "\n",
    "df_ratings = pd.read_csv('data/ml-latest-small/ratings.csv')\n",
    "df_movies = pd.read_csv('data/ml-latest-small/movies.csv')\n",
    "df_links = pd.read_csv('data/ml-latest-small/links.csv')\n",
    "df_cast = pd.read_csv('data/ml-latest-small/cast.csv')\n",
    "df_tags = pd.read_csv('data/ml-latest-small/tags.csv')\n"
   ]
  },
  {
   "cell_type": "code",
   "execution_count": 6,
   "metadata": {},
   "outputs": [],
   "source": [
    "#what tables we need from data\n",
    "# - movie genres                                                ×\n",
    "# - avg rating for each movie                                   ×\n",
    "# - avg rating for each genre\n",
    "# - rating count for each movie                                 ×\n",
    "# - what movies user has rated and the ratings for each user    ×\n",
    "# - how much movies has each user rated                         ×\n",
    "# - movie references (everything connected to one movie id)\n",
    "\n",
    "num_movies = df_movies.shape[0]\n",
    "num_users = df_ratings.shape[0]\n",
    "\n",
    "#set of movie genres\n",
    "movie_genres = set(genre.lower() \n",
    "                    for i in range(len(df_movies)) \n",
    "                    for genre in df_movies.loc[i, 'genres'].split('|'))\n",
    "\n",
    "\n",
    "#avg rating for each movie\n",
    "avgMovieRating = {movieId[0]: [movieId[1]['rating'].mean(), len(movieId[1])] \n",
    "                    for movieId in df_ratings.groupby('movieId')}\n",
    "\n",
    "\n",
    "#avg rating for each genre\n",
    "avgGenreRating = {movieId[0]: [movieId[1]['rating'].mean(), len(movieId[1])] \n",
    "                    for movieId in df_ratings.groupby('movieId')}\n",
    "\n",
    "\n",
    "#movie references movieId: (genres + tags + cast)\n",
    "list_movie_tag = list(zip(df_tags['movieId'], df_tags['tag']))\n",
    "movie_tags = {movie[0]: movie[1] for movie in list_movie_tag}\n",
    "\n",
    "movie_references = {movie[0]: (movie[1]['title'].values, movie[1]['cast'].values) \n",
    "                    for movie in pd.merge(df_movies, df_cast, on='movieId').groupby('movieId')}\n",
    "\n",
    "for mid in movie_tags:\n",
    "    movie_references[mid] = (movie_tags[mid], movie_references[mid][0], movie_references[mid][1])\n",
    "\n",
    "\n",
    "#matrix x for users and movies\n",
    "users = sorted(list(set(df_ratings['userId'].values)))\n",
    "x = {userId[0]: list(zip(userId[1]['movieId'].values, userId[1]['rating'].values)) \n",
    "            for userId in users}\n"
   ]
  },
  {
   "cell_type": "code",
   "execution_count": 27,
   "metadata": {},
   "outputs": [
    {
     "name": "stdout",
     "output_type": "stream",
     "text": [
      "   movieId                                               cast  movieId  \\\n",
      "0        1  Tom Hanks|Tim Allen|Don Rickles|Jim Varney|Wal...        1   \n",
      "1        2  Robin Williams|Jonathan Hyde|Kirsten Dunst|Bra...        2   \n",
      "2        3  Walter Matthau|Jack Lemmon|Sophia Loren|Burges...        3   \n",
      "3        4  Whitney Houston|Angela Bassett|Loretta Devine|...        4   \n",
      "4        5  Steve Martin|Diane Keaton|Martin Short|George ...        5   \n",
      "\n",
      "                                title  \\\n",
      "0                    Toy Story (1995)   \n",
      "1                      Jumanji (1995)   \n",
      "2             Grumpier Old Men (1995)   \n",
      "3            Waiting to Exhale (1995)   \n",
      "4  Father of the Bride Part II (1995)   \n",
      "\n",
      "                                        genres  userId  movieId  \\\n",
      "0  Adventure|Animation|Children|Comedy|Fantasy    15.0    339.0   \n",
      "1                   Adventure|Children|Fantasy    15.0   1955.0   \n",
      "2                               Comedy|Romance    15.0   7478.0   \n",
      "3                         Comedy|Drama|Romance    15.0  32892.0   \n",
      "4                                       Comedy    15.0  34162.0   \n",
      "\n",
      "                       tag     timestamp  \n",
      "0  sandra 'boring' bullock  1.138538e+09  \n",
      "1                  dentist  1.193435e+09  \n",
      "2                 Cambodia  1.170561e+09  \n",
      "3                  Russian  1.170626e+09  \n",
      "4              forgettable  1.141392e+09  \n"
     ]
    }
   ],
   "source": [
    "\n",
    "\n"
   ]
  },
  {
   "cell_type": "code",
   "execution_count": 10,
   "metadata": {},
   "outputs": [
    {
     "name": "stdout",
     "output_type": "stream",
     "text": [
      "      movieId                                              title  \\\n",
      "0           1                                   Toy Story (1995)   \n",
      "1           2                                     Jumanji (1995)   \n",
      "2           3                            Grumpier Old Men (1995)   \n",
      "3           4                           Waiting to Exhale (1995)   \n",
      "4           5                 Father of the Bride Part II (1995)   \n",
      "...       ...                                                ...   \n",
      "9120   162672                                Mohenjo Daro (2016)   \n",
      "9121   163056                               Shin Godzilla (2016)   \n",
      "9122   163949  The Beatles: Eight Days a Week - The Touring Y...   \n",
      "9123   164977                           The Gay Desperado (1936)   \n",
      "9124   164979                              Women of '69, Unboxed   \n",
      "\n",
      "                                           genres  \\\n",
      "0     Adventure|Animation|Children|Comedy|Fantasy   \n",
      "1                      Adventure|Children|Fantasy   \n",
      "2                                  Comedy|Romance   \n",
      "3                            Comedy|Drama|Romance   \n",
      "4                                          Comedy   \n",
      "...                                           ...   \n",
      "9120                      Adventure|Drama|Romance   \n",
      "9121              Action|Adventure|Fantasy|Sci-Fi   \n",
      "9122                                  Documentary   \n",
      "9123                                       Comedy   \n",
      "9124                                  Documentary   \n",
      "\n",
      "                                                   cast  \n",
      "0     Tom Hanks|Tim Allen|Don Rickles|Jim Varney|Wal...  \n",
      "1     Robin Williams|Jonathan Hyde|Kirsten Dunst|Bra...  \n",
      "2     Walter Matthau|Jack Lemmon|Sophia Loren|Burges...  \n",
      "3     Whitney Houston|Angela Bassett|Loretta Devine|...  \n",
      "4     Steve Martin|Diane Keaton|Martin Short|George ...  \n",
      "...                                                 ...  \n",
      "9120  Hrithik Roshan|Pooja Hegde|Kabir Bedi|Arunoday...  \n",
      "9121  Hiroki Hasegawa|Yutaka Takenouchi|Satomi Ishih...  \n",
      "9122  Paul McCartney|Ringo Starr|John Lennon|George ...  \n",
      "9123  Nino Martini|Ida Lupino|Leo Carrillo|Harold Hu...  \n",
      "9124                                                NaN  \n",
      "\n",
      "[9125 rows x 4 columns]\n"
     ]
    }
   ],
   "source": [
    "print(pd.merge(df_movies, df_cast, on='movieId'))"
   ]
  }
 ],
 "metadata": {
  "kernelspec": {
   "display_name": "Python 3.10.4 64-bit",
   "language": "python",
   "name": "python3"
  },
  "language_info": {
   "codemirror_mode": {
    "name": "ipython",
    "version": 3
   },
   "file_extension": ".py",
   "mimetype": "text/x-python",
   "name": "python",
   "nbconvert_exporter": "python",
   "pygments_lexer": "ipython3",
   "version": "3.10.4"
  },
  "orig_nbformat": 4,
  "vscode": {
   "interpreter": {
    "hash": "916dbcbb3f70747c44a77c7bcd40155683ae19c65e1c03b4aa3499c5328201f1"
   }
  }
 },
 "nbformat": 4,
 "nbformat_minor": 2
}
