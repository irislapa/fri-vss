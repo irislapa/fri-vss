{
 "cells": [
  {
   "cell_type": "markdown",
   "metadata": {},
   "source": [
    "### Movie Recommender with matrix factorization by Irinej Slapal"
   ]
  },
  {
   "cell_type": "markdown",
   "metadata": {},
   "source": [
    "First we import the necessary libraries (we will use nupy and pandas) and\n",
    "read the data from the csv file into a pandas dataframe."
   ]
  },
  {
   "cell_type": "code",
   "execution_count": 2,
   "metadata": {},
   "outputs": [],
   "source": [
    "import numpy as np\n",
    "import pandas as pd\n",
    "from datetime import datetime\n",
    "import csv\n",
    "import collections"
   ]
  },
  {
   "cell_type": "code",
   "execution_count": 3,
   "metadata": {},
   "outputs": [],
   "source": [
    "\n",
    "df_ratings = pd.read_csv('data/ml-latest-small/ratings.csv')\n",
    "df_movies = pd.read_csv('data/ml-latest-small/movies.csv')\n",
    "df_links = pd.read_csv('data/ml-latest-small/links.csv')\n",
    "df_cast = pd.read_csv('data/ml-latest-small/cast.csv')\n",
    "df_tags = pd.read_csv('data/ml-latest-small/tags.csv')\n"
   ]
  },
  {
   "cell_type": "markdown",
   "metadata": {},
   "source": [
    "TODO:\n",
    "- matrix factorization algorithm\n",
    "- different search and recomendation options\n",
    "- simple console ui\n",
    "- users backend (new users, new ratings, users adding new tags, and so on)\n",
    "- frontend possibly\n",
    "- \n"
   ]
  },
  {
   "cell_type": "markdown",
   "metadata": {},
   "source": [
    "Now, for the matrix factorization to work, we need to form a matrix X (users * movies), this matriks will show us with what rating and which movies a certain user rated.\n"
   ]
  },
  {
   "cell_type": "code",
   "execution_count": 4,
   "metadata": {},
   "outputs": [
    {
     "name": "stdout",
     "output_type": "stream",
     "text": [
      "         count      mean       std  min   25%  50%  75%  max\n",
      "movieId                                                     \n",
      "1        247.0  3.872470  0.958981  1.0  3.00  4.0  5.0  5.0\n",
      "2        107.0  3.401869  0.880714  1.5  3.00  3.0  4.0  5.0\n",
      "3         59.0  3.161017  1.150115  0.5  2.25  3.0  4.0  5.0\n",
      "4         13.0  2.384615  0.938835  1.0  1.50  3.0  3.0  3.5\n",
      "5         56.0  3.267857  0.948512  1.0  3.00  3.0  4.0  5.0\n",
      "...        ...       ...       ...  ...   ...  ...  ...  ...\n",
      "161944     1.0  5.000000       NaN  5.0  5.00  5.0  5.0  5.0\n",
      "162376     1.0  4.500000       NaN  4.5  4.50  4.5  4.5  4.5\n",
      "162542     1.0  5.000000       NaN  5.0  5.00  5.0  5.0  5.0\n",
      "162672     1.0  3.000000       NaN  3.0  3.00  3.0  3.0  3.0\n",
      "163949     1.0  5.000000       NaN  5.0  5.00  5.0  5.0  5.0\n",
      "\n",
      "[9066 rows x 8 columns]\n"
     ]
    }
   ],
   "source": [
    "\n",
    "print(df_ratings.groupby('movieId')['rating'].describe())"
   ]
  },
  {
   "cell_type": "code",
   "execution_count": 12,
   "metadata": {},
   "outputs": [
    {
     "name": "stdout",
     "output_type": "stream",
     "text": [
      "[[0. 0. 0. ... 0. 0. 0.]\n",
      " [0. 0. 0. ... 0. 0. 0.]\n",
      " [0. 0. 0. ... 0. 0. 0.]\n",
      " ...\n",
      " [0. 0. 0. ... 0. 0. 0.]\n",
      " [4. 0. 0. ... 0. 0. 0.]\n",
      " [5. 0. 0. ... 0. 0. 0.]]\n"
     ]
    }
   ],
   "source": [
    "#what tables we need from data\n",
    "# - movie genres                                                ×\n",
    "# - avg rating for each movie                                   ×\n",
    "# - avg rating for each genre\n",
    "# - rating count for each movie                                 ×\n",
    "# - what movies user has rated and the ratings for each user    ×\n",
    "# - how much movies has each user rated                         ×\n",
    "# - movie references (everything connected to one movie id)\n",
    "\n",
    "#matrix x for users and movies, used for recommendation system\n",
    "df_X = df_ratings.pivot(index='userId', columns='movieId', values='rating').fillna(0)\n",
    "np_X = df_X.to_numpy()\n",
    "\n",
    "\n",
    "#other matrices for features like recommending by genre, cast, etc.\n",
    "#set of movie genres\n",
    "movie_genres = set(genre.lower() \n",
    "                    for i in range(len(df_movies)) \n",
    "                    for genre in df_movies.loc[i, 'genres'].split('|'))\n",
    "\n",
    "\n",
    "#avg rating for each movie\n",
    "avgMovieRating = {movieId[0]: [movieId[1]['rating'].mean(), len(movieId[1])] \n",
    "                    for movieId in df_ratings.groupby('movieId')}\n",
    "\n",
    "\n",
    "#avg rating for each genre\n",
    "avgGenreRating = {movieId[0]: [movieId[1]['rating'].mean(), len(movieId[1])] \n",
    "                    for movieId in df_ratings.groupby('movieId')}\n",
    "\n",
    "\n",
    "#movie references movieId: (genres + tags + cast)\n",
    "list_movie_tag = list(zip(df_tags['movieId'], df_tags['tag']))\n",
    "\n",
    "\n",
    "movie_tags = {movie[0]: movie[1] for movie in list_movie_tag}\n",
    "\n",
    "movie_references = {movie[0]: (movie[1]['title'].values, movie[1]['cast'].values) \n",
    "                    for movie in pd.merge(df_movies, df_cast, on='movieId').groupby('movieId')}\n",
    "\n",
    "\n",
    "for movieId in movie_tags:\n",
    "    movie_references[movieId] = (movie_tags[movieId], movie_references[movieId][0], movie_references[movieId][1])\n",
    "\n",
    "movie_cast = pd.merge(df_movies, df_cast, on='movieId')\n",
    "\n",
    "\n",
    "\n"
   ]
  },
  {
   "cell_type": "markdown",
   "metadata": {},
   "source": [
    "The idea behind matrix factorization is to find two smaller matrices, that multiply into the main matrix and this is why we call it matrix factorization.\n",
    "Now since we have a lot of missing values in the initial matrix, \n"
   ]
  },
  {
   "cell_type": "code",
   "execution_count": 7,
   "metadata": {},
   "outputs": [
    {
     "name": "stdout",
     "output_type": "stream",
     "text": [
      "      movieId                                              title  \\\n",
      "0           1                                   Toy Story (1995)   \n",
      "1           2                                     Jumanji (1995)   \n",
      "2           3                            Grumpier Old Men (1995)   \n",
      "3           4                           Waiting to Exhale (1995)   \n",
      "4           5                 Father of the Bride Part II (1995)   \n",
      "...       ...                                                ...   \n",
      "9120   162672                                Mohenjo Daro (2016)   \n",
      "9121   163056                               Shin Godzilla (2016)   \n",
      "9122   163949  The Beatles: Eight Days a Week - The Touring Y...   \n",
      "9123   164977                           The Gay Desperado (1936)   \n",
      "9124   164979                              Women of '69, Unboxed   \n",
      "\n",
      "                                           genres  \\\n",
      "0     Adventure|Animation|Children|Comedy|Fantasy   \n",
      "1                      Adventure|Children|Fantasy   \n",
      "2                                  Comedy|Romance   \n",
      "3                            Comedy|Drama|Romance   \n",
      "4                                          Comedy   \n",
      "...                                           ...   \n",
      "9120                      Adventure|Drama|Romance   \n",
      "9121              Action|Adventure|Fantasy|Sci-Fi   \n",
      "9122                                  Documentary   \n",
      "9123                                       Comedy   \n",
      "9124                                  Documentary   \n",
      "\n",
      "                                                   cast  \n",
      "0     Tom Hanks|Tim Allen|Don Rickles|Jim Varney|Wal...  \n",
      "1     Robin Williams|Jonathan Hyde|Kirsten Dunst|Bra...  \n",
      "2     Walter Matthau|Jack Lemmon|Sophia Loren|Burges...  \n",
      "3     Whitney Houston|Angela Bassett|Loretta Devine|...  \n",
      "4     Steve Martin|Diane Keaton|Martin Short|George ...  \n",
      "...                                                 ...  \n",
      "9120  Hrithik Roshan|Pooja Hegde|Kabir Bedi|Arunoday...  \n",
      "9121  Hiroki Hasegawa|Yutaka Takenouchi|Satomi Ishih...  \n",
      "9122  Paul McCartney|Ringo Starr|John Lennon|George ...  \n",
      "9123  Nino Martini|Ida Lupino|Leo Carrillo|Harold Hu...  \n",
      "9124                                                NaN  \n",
      "\n",
      "[9125 rows x 4 columns]\n"
     ]
    }
   ],
   "source": [
    "\n",
    "def funkSVD(X, H, W, K):\n",
    "    steps = 1000\n",
    "    lr = 0.0002\n",
    "    rp = 0.02\n",
    "\n",
    "    \n",
    "    rows = X.shape[0]\n",
    "    collumns = X.shape[1]\n",
    "    progressIndicator = 0\n",
    "\n",
    "    for step in range(steps):\n",
    "        #indicate progress\n",
    "        if step % (steps/100) == 0:\n",
    "            progressIndicator += 1\n",
    "            print(\"\\rCalculation progress: \", progressIndicator, \"%\", end=\"\")\n",
    "\n",
    "\n",
    "        for i in range(rows):\n",
    "            for j in range(collumns):\n",
    "                if np_X[i, j] > 0:\n",
    "                    # calculate error\n",
    "                    error = np_X[i, j] - np.dot(H[i,:],W[:,j])\n",
    "\n",
    "                    for k in range(K):\n",
    "                        H[i, k] = H[i, k] + lr * (2 * error * W[k, j] - rp * H[i, k])\n",
    "                        W[k, j] = W[k, j] + lr * (2 * error * H[i, k] - rp * W[k, j])\n",
    "        e = 0\n",
    "        for i in range(rows):\n",
    "            for j in range(collumns):\n",
    "                if X[i, j] > 0:\n",
    "                    e = e + pow(X[i, j] - np.dot(H[i,:],W[:,j]), 2)\n",
    "                    for k in range(K):\n",
    "                        e = e + (rp/2) * (pow(H[i, k],2) + pow(W[k, j],2))\n",
    "        if e < 0.001:\n",
    "            break\n",
    "    return H, W\n",
    "\n",
    "\n",
    "\n",
    "\n"
   ]
  }
 ],
 "metadata": {
  "kernelspec": {
   "display_name": "Python 3.10.4 64-bit",
   "language": "python",
   "name": "python3"
  },
  "language_info": {
   "codemirror_mode": {
    "name": "ipython",
    "version": 3
   },
   "file_extension": ".py",
   "mimetype": "text/x-python",
   "name": "python",
   "nbconvert_exporter": "python",
   "pygments_lexer": "ipython3",
   "version": "3.10.12"
  },
  "orig_nbformat": 4,
  "vscode": {
   "interpreter": {
    "hash": "916dbcbb3f70747c44a77c7bcd40155683ae19c65e1c03b4aa3499c5328201f1"
   }
  }
 },
 "nbformat": 4,
 "nbformat_minor": 2
}
